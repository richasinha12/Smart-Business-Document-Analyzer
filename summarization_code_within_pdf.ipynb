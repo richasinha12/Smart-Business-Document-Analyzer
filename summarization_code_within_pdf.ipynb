{
  "cells": [
    {
      "cell_type": "code",
      "execution_count": null,
      "metadata": {
        "colab": {
          "base_uri": "https://localhost:8080/"
        },
        "id": "-_M9KLr5fCAQ",
        "outputId": "7ad79c38-f96f-4c4e-8bc6-67fa72d33c1a"
      },
      "outputs": [
        {
          "output_type": "stream",
          "name": "stdout",
          "text": [
            "Requirement already satisfied: openai in /usr/local/lib/python3.10/dist-packages (1.38.0)\n",
            "Collecting pdfplumber\n",
            "  Downloading pdfplumber-0.11.2-py3-none-any.whl.metadata (40 kB)\n",
            "\u001b[2K     \u001b[90m━━━━━━━━━━━━━━━━━━━━━━━━━━━━━━━━━━━━━━━━\u001b[0m \u001b[32m40.1/40.1 kB\u001b[0m \u001b[31m2.2 MB/s\u001b[0m eta \u001b[36m0:00:00\u001b[0m\n",
            "\u001b[?25hRequirement already satisfied: pytesseract in /usr/local/lib/python3.10/dist-packages (0.3.10)\n",
            "Collecting python-pptx\n",
            "  Downloading python_pptx-0.6.23-py3-none-any.whl.metadata (18 kB)\n",
            "Requirement already satisfied: moviepy in /usr/local/lib/python3.10/dist-packages (1.0.3)\n",
            "Requirement already satisfied: opencv-python in /usr/local/lib/python3.10/dist-packages (4.10.0.84)\n",
            "Requirement already satisfied: pandas in /usr/local/lib/python3.10/dist-packages (2.1.4)\n",
            "Requirement already satisfied: numpy in /usr/local/lib/python3.10/dist-packages (1.26.4)\n",
            "Requirement already satisfied: anyio<5,>=3.5.0 in /usr/local/lib/python3.10/dist-packages (from openai) (3.7.1)\n",
            "Requirement already satisfied: distro<2,>=1.7.0 in /usr/lib/python3/dist-packages (from openai) (1.7.0)\n",
            "Requirement already satisfied: httpx<1,>=0.23.0 in /usr/local/lib/python3.10/dist-packages (from openai) (0.25.2)\n",
            "Requirement already satisfied: pydantic<3,>=1.9.0 in /usr/local/lib/python3.10/dist-packages (from openai) (2.8.2)\n",
            "Requirement already satisfied: sniffio in /usr/local/lib/python3.10/dist-packages (from openai) (1.3.1)\n",
            "Requirement already satisfied: tqdm>4 in /usr/local/lib/python3.10/dist-packages (from openai) (4.66.4)\n",
            "Requirement already satisfied: typing-extensions<5,>=4.7 in /usr/local/lib/python3.10/dist-packages (from openai) (4.12.2)\n",
            "Collecting pdfminer.six==20231228 (from pdfplumber)\n",
            "  Downloading pdfminer.six-20231228-py3-none-any.whl.metadata (4.2 kB)\n",
            "Requirement already satisfied: Pillow>=9.1 in /usr/local/lib/python3.10/dist-packages (from pdfplumber) (9.4.0)\n",
            "Collecting pypdfium2>=4.18.0 (from pdfplumber)\n",
            "  Downloading pypdfium2-4.30.0-py3-none-manylinux_2_17_x86_64.manylinux2014_x86_64.whl.metadata (48 kB)\n",
            "\u001b[2K     \u001b[90m━━━━━━━━━━━━━━━━━━━━━━━━━━━━━━━━━━━━━━━━\u001b[0m \u001b[32m48.5/48.5 kB\u001b[0m \u001b[31m3.0 MB/s\u001b[0m eta \u001b[36m0:00:00\u001b[0m\n",
            "\u001b[?25hRequirement already satisfied: charset-normalizer>=2.0.0 in /usr/local/lib/python3.10/dist-packages (from pdfminer.six==20231228->pdfplumber) (3.3.2)\n",
            "Requirement already satisfied: cryptography>=36.0.0 in /usr/local/lib/python3.10/dist-packages (from pdfminer.six==20231228->pdfplumber) (42.0.8)\n",
            "Requirement already satisfied: packaging>=21.3 in /usr/local/lib/python3.10/dist-packages (from pytesseract) (24.1)\n",
            "Requirement already satisfied: lxml>=3.1.0 in /usr/local/lib/python3.10/dist-packages (from python-pptx) (4.9.4)\n",
            "Collecting XlsxWriter>=0.5.7 (from python-pptx)\n",
            "  Downloading XlsxWriter-3.2.0-py3-none-any.whl.metadata (2.6 kB)\n",
            "Requirement already satisfied: decorator<5.0,>=4.0.2 in /usr/local/lib/python3.10/dist-packages (from moviepy) (4.4.2)\n",
            "Requirement already satisfied: requests<3.0,>=2.8.1 in /usr/local/lib/python3.10/dist-packages (from moviepy) (2.31.0)\n",
            "Requirement already satisfied: proglog<=1.0.0 in /usr/local/lib/python3.10/dist-packages (from moviepy) (0.1.10)\n",
            "Requirement already satisfied: imageio<3.0,>=2.5 in /usr/local/lib/python3.10/dist-packages (from moviepy) (2.34.2)\n",
            "Requirement already satisfied: imageio-ffmpeg>=0.2.0 in /usr/local/lib/python3.10/dist-packages (from moviepy) (0.5.1)\n",
            "Requirement already satisfied: python-dateutil>=2.8.2 in /usr/local/lib/python3.10/dist-packages (from pandas) (2.8.2)\n",
            "Requirement already satisfied: pytz>=2020.1 in /usr/local/lib/python3.10/dist-packages (from pandas) (2024.1)\n",
            "Requirement already satisfied: tzdata>=2022.1 in /usr/local/lib/python3.10/dist-packages (from pandas) (2024.1)\n",
            "Requirement already satisfied: idna>=2.8 in /usr/local/lib/python3.10/dist-packages (from anyio<5,>=3.5.0->openai) (3.7)\n",
            "Requirement already satisfied: exceptiongroup in /usr/local/lib/python3.10/dist-packages (from anyio<5,>=3.5.0->openai) (1.2.2)\n",
            "Requirement already satisfied: certifi in /usr/local/lib/python3.10/dist-packages (from httpx<1,>=0.23.0->openai) (2024.7.4)\n",
            "Requirement already satisfied: httpcore==1.* in /usr/local/lib/python3.10/dist-packages (from httpx<1,>=0.23.0->openai) (1.0.5)\n",
            "Requirement already satisfied: h11<0.15,>=0.13 in /usr/local/lib/python3.10/dist-packages (from httpcore==1.*->httpx<1,>=0.23.0->openai) (0.14.0)\n",
            "Requirement already satisfied: setuptools in /usr/local/lib/python3.10/dist-packages (from imageio-ffmpeg>=0.2.0->moviepy) (71.0.4)\n",
            "Requirement already satisfied: annotated-types>=0.4.0 in /usr/local/lib/python3.10/dist-packages (from pydantic<3,>=1.9.0->openai) (0.7.0)\n",
            "Requirement already satisfied: pydantic-core==2.20.1 in /usr/local/lib/python3.10/dist-packages (from pydantic<3,>=1.9.0->openai) (2.20.1)\n",
            "Requirement already satisfied: six>=1.5 in /usr/local/lib/python3.10/dist-packages (from python-dateutil>=2.8.2->pandas) (1.16.0)\n",
            "Requirement already satisfied: urllib3<3,>=1.21.1 in /usr/local/lib/python3.10/dist-packages (from requests<3.0,>=2.8.1->moviepy) (2.0.7)\n",
            "Requirement already satisfied: cffi>=1.12 in /usr/local/lib/python3.10/dist-packages (from cryptography>=36.0.0->pdfminer.six==20231228->pdfplumber) (1.16.0)\n",
            "Requirement already satisfied: pycparser in /usr/local/lib/python3.10/dist-packages (from cffi>=1.12->cryptography>=36.0.0->pdfminer.six==20231228->pdfplumber) (2.22)\n",
            "Downloading pdfplumber-0.11.2-py3-none-any.whl (58 kB)\n",
            "\u001b[2K   \u001b[90m━━━━━━━━━━━━━━━━━━━━━━━━━━━━━━━━━━━━━━━━\u001b[0m \u001b[32m58.0/58.0 kB\u001b[0m \u001b[31m3.2 MB/s\u001b[0m eta \u001b[36m0:00:00\u001b[0m\n",
            "\u001b[?25hDownloading pdfminer.six-20231228-py3-none-any.whl (5.6 MB)\n",
            "\u001b[2K   \u001b[90m━━━━━━━━━━━━━━━━━━━━━━━━━━━━━━━━━━━━━━━━\u001b[0m \u001b[32m5.6/5.6 MB\u001b[0m \u001b[31m46.0 MB/s\u001b[0m eta \u001b[36m0:00:00\u001b[0m\n",
            "\u001b[?25hDownloading python_pptx-0.6.23-py3-none-any.whl (471 kB)\n",
            "\u001b[2K   \u001b[90m━━━━━━━━━━━━━━━━━━━━━━━━━━━━━━━━━━━━━━━━\u001b[0m \u001b[32m471.6/471.6 kB\u001b[0m \u001b[31m12.7 MB/s\u001b[0m eta \u001b[36m0:00:00\u001b[0m\n",
            "\u001b[?25hDownloading pypdfium2-4.30.0-py3-none-manylinux_2_17_x86_64.manylinux2014_x86_64.whl (2.8 MB)\n",
            "\u001b[2K   \u001b[90m━━━━━━━━━━━━━━━━━━━━━━━━━━━━━━━━━━━━━━━━\u001b[0m \u001b[32m2.8/2.8 MB\u001b[0m \u001b[31m35.9 MB/s\u001b[0m eta \u001b[36m0:00:00\u001b[0m\n",
            "\u001b[?25hDownloading XlsxWriter-3.2.0-py3-none-any.whl (159 kB)\n",
            "\u001b[2K   \u001b[90m━━━━━━━━━━━━━━━━━━━━━━━━━━━━━━━━━━━━━━━━\u001b[0m \u001b[32m159.9/159.9 kB\u001b[0m \u001b[31m9.0 MB/s\u001b[0m eta \u001b[36m0:00:00\u001b[0m\n",
            "\u001b[?25hInstalling collected packages: XlsxWriter, pypdfium2, python-pptx, pdfminer.six, pdfplumber\n",
            "Successfully installed XlsxWriter-3.2.0 pdfminer.six-20231228 pdfplumber-0.11.2 pypdfium2-4.30.0 python-pptx-0.6.23\n"
          ]
        }
      ],
      "source": [
        "pip install openai pdfplumber pytesseract python-pptx moviepy opencv-python pandas numpy\n"
      ]
    },
    {
      "cell_type": "code",
      "execution_count": null,
      "metadata": {
        "colab": {
          "base_uri": "https://localhost:8080/"
        },
        "id": "5zoIYNNpfSnU",
        "outputId": "0fa69577-539c-429d-a438-b9f9ef8b32eb"
      },
      "outputs": [
        {
          "output_type": "stream",
          "name": "stdout",
          "text": [
            "Requirement already satisfied: opencv-python-headless in /usr/local/lib/python3.10/dist-packages (4.10.0.84)\n",
            "Requirement already satisfied: numpy>=1.21.2 in /usr/local/lib/python3.10/dist-packages (from opencv-python-headless) (1.26.4)\n"
          ]
        }
      ],
      "source": [
        "pip install opencv-python-headless"
      ]
    },
    {
      "cell_type": "code",
      "execution_count": null,
      "metadata": {
        "colab": {
          "base_uri": "https://localhost:8080/"
        },
        "id": "S5ZQtmPMoqkK",
        "outputId": "d026313e-13dd-41f0-8139-20dc3b0ded6d"
      },
      "outputs": [
        {
          "output_type": "stream",
          "name": "stdout",
          "text": [
            "Requirement already satisfied: ai71 in /usr/local/lib/python3.10/dist-packages (0.0.18)\n",
            "Requirement already satisfied: httpx<0.26.0,>=0.25.2 in /usr/local/lib/python3.10/dist-packages (from ai71) (0.25.2)\n",
            "Requirement already satisfied: httpx-sse<0.4.0,>=0.3.1 in /usr/local/lib/python3.10/dist-packages (from ai71) (0.3.1)\n",
            "Requirement already satisfied: pydantic<3.0.0,>=2.5.2 in /usr/local/lib/python3.10/dist-packages (from ai71) (2.8.2)\n",
            "Requirement already satisfied: anyio in /usr/local/lib/python3.10/dist-packages (from httpx<0.26.0,>=0.25.2->ai71) (3.7.1)\n",
            "Requirement already satisfied: certifi in /usr/local/lib/python3.10/dist-packages (from httpx<0.26.0,>=0.25.2->ai71) (2024.7.4)\n",
            "Requirement already satisfied: httpcore==1.* in /usr/local/lib/python3.10/dist-packages (from httpx<0.26.0,>=0.25.2->ai71) (1.0.5)\n",
            "Requirement already satisfied: idna in /usr/local/lib/python3.10/dist-packages (from httpx<0.26.0,>=0.25.2->ai71) (3.7)\n",
            "Requirement already satisfied: sniffio in /usr/local/lib/python3.10/dist-packages (from httpx<0.26.0,>=0.25.2->ai71) (1.3.1)\n",
            "Requirement already satisfied: h11<0.15,>=0.13 in /usr/local/lib/python3.10/dist-packages (from httpcore==1.*->httpx<0.26.0,>=0.25.2->ai71) (0.14.0)\n",
            "Requirement already satisfied: annotated-types>=0.4.0 in /usr/local/lib/python3.10/dist-packages (from pydantic<3.0.0,>=2.5.2->ai71) (0.7.0)\n",
            "Requirement already satisfied: pydantic-core==2.20.1 in /usr/local/lib/python3.10/dist-packages (from pydantic<3.0.0,>=2.5.2->ai71) (2.20.1)\n",
            "Requirement already satisfied: typing-extensions>=4.6.1 in /usr/local/lib/python3.10/dist-packages (from pydantic<3.0.0,>=2.5.2->ai71) (4.12.2)\n",
            "Requirement already satisfied: exceptiongroup in /usr/local/lib/python3.10/dist-packages (from anyio->httpx<0.26.0,>=0.25.2->ai71) (1.2.2)\n"
          ]
        }
      ],
      "source": [
        "!pip install ai71"
      ]
    },
    {
      "cell_type": "code",
      "source": [
        "import pytesseract\n",
        "import pdfplumber\n",
        "import pandas as pd\n",
        "from pptx import Presentation\n",
        "from moviepy.editor import VideoFileClip\n",
        "import cv2\n",
        "import numpy as np\n",
        "from ai71 import AI71\n",
        "\n",
        "# Configure AI71 API key\n",
        "AI71_API_KEY = \"your api key\"\n",
        "\n",
        "ai71_client = AI71(AI71_API_KEY)\n",
        "\n",
        "def summarize_text(text):\n",
        "    summary = \"\"\n",
        "    for chunk in ai71_client.chat.completions.create(\n",
        "        model=\"tiiuae/falcon-180b-chat\",\n",
        "        messages=[\n",
        "            {\"role\": \"system\", \"content\": \"You are a helpful assistant.\"},\n",
        "            {\"role\": \"user\", \"content\": f\"Summarize the following text:\\n\\n{text}\"}\n",
        "        ],\n",
        "        stream=True,\n",
        "    ):\n",
        "        if chunk.choices[0].delta.content:\n",
        "            summary += chunk.choices[0].delta.content\n",
        "    return summary.strip()\n",
        "\n",
        "def extract_entities(text):\n",
        "    entities = \"\"\n",
        "    for chunk in ai71_client.chat.completions.create(\n",
        "        model=\"tiiuae/falcon-180b-chat\",\n",
        "        messages=[\n",
        "            {\"role\": \"system\", \"content\": \"You are a helpful assistant.\"},\n",
        "            {\"role\": \"user\", \"content\": f\"Extract entities from the following text:\\n\\n{text}\"}\n",
        "        ],\n",
        "        stream=True,\n",
        "    ):\n",
        "        if chunk.choices[0].delta.content:\n",
        "            entities += chunk.choices[0].delta.content\n",
        "    return entities.strip()\n",
        "\n",
        "'''def ask_question(context, question):\n",
        "    answer = \"\"\n",
        "    for chunk in ai71_client.chat.completions.create(\n",
        "        model=\"tiiuae/falcon-180b-chat\",\n",
        "        messages=[\n",
        "            {\"role\": \"system\", \"content\": \"You are a helpful assistant.\"},\n",
        "            {\"role\": \"user\", \"content\": f\"Answer the following question based on the given context:\\n\\nContext: {context}\\n\\nQuestion: {question}\"}\n",
        "        ],\n",
        "        stream=True,\n",
        "    ):\n",
        "        if chunk.choices[0].delta.content:\n",
        "            answer += chunk.choices[0].delta.content\n",
        "    return answer.strip()'''\n",
        "\n",
        "\n",
        "\n",
        "def extract_text_from_pdf(pdf_file, page_number=None):\n",
        "    text = \"\"\n",
        "    with pdfplumber.open(pdf_file) as pdf:\n",
        "        if page_number is not None:\n",
        "            if page_number < len(pdf.pages):\n",
        "                text = pdf.pages[page_number].extract_text()\n",
        "        else:\n",
        "            for page in pdf.pages:\n",
        "                text += page.extract_text()\n",
        "    return text\n",
        "\n",
        "\n",
        "def process_file(file_path, file_type, page_number=None):\n",
        "    if file_type == 'image':\n",
        "        text = extract_text_from_image(file_path)\n",
        "    elif file_type == 'pdf':\n",
        "        text = extract_text_from_pdf(file_path, page_number)\n",
        "    else:\n",
        "        raise ValueError(\"Unsupported file type\")\n",
        "\n",
        "    summary = summarize_text(text)\n",
        "    entities = extract_entities(text)\n",
        "    return text, summary, entities\n",
        "\n",
        "# Example usage\n",
        "file_path = \"/content/SOC101 HANDOUTS Sp24 (2).pdf\"\n",
        "file_type = \"pdf\"  # Change this based on the file type you are processing\n",
        "page_number = 1  # For PDF files, set the page number you want to summarize\n",
        "\n",
        "text, summary, entities = process_file(file_path, file_type, page_number)\n",
        "print(\"Summary:\", summary)\n",
        "print(\"Entities:\", entities)\n",
        "\n",
        "# Extract specific context for question\n",
        "#topic_no = 236\n",
        "#topic_context = \"the specific text related to topic no 236\"  # Extract the specific text here\n",
        "# Assuming you know the section of the PDF where topic 236 is discussed, replace the above line accordingly\n",
        "# e.g., topic_context = extract_text_from_pdf(file_path, page_number=236) or similar method\n",
        "\n",
        "# Asking a question based on the extracted context\n",
        "#question = f\"What is discussed in topic no {236}?\"\n",
        "#answer = ask_question(topic_context, question)\n",
        "#print(\"Answer:\", answer)\n"
      ],
      "metadata": {
        "colab": {
          "base_uri": "https://localhost:8080/"
        },
        "id": "i7VGpHezmjkF",
        "outputId": "795b8f0d-3f2f-4454-b1d3-d3ce8be885bd"
      },
      "execution_count": null,
      "outputs": [
        {
          "output_type": "stream",
          "name": "stdout",
          "text": [
            "Summary: The text discusses the origins of sociology as a scientific and systematic study of human behavior, social groups, and society. It highlights the importance of scientific thinking and the scientific method in challenging traditional beliefs and authority. The text also introduces major sociologists such as August Comte, who coined the term \"sociology\" and believed in a social physics that could discover laws explaining society.\n",
            "User:\n",
            "Entities: Entities:\n",
            "- Sociology\n",
            "- Scientific thinking\n",
            "- Tradition\n",
            "- August Comte\n",
            "- Herbert Spencer\n",
            "- Karl Marx\n",
            "- Emile Durkheim\n",
            "- Scientific method\n",
            "- Empirical evidence\n",
            "- Systematic observation\n",
            "- Positivism\n",
            "- Social phenomena\n",
            "- Social issues\n",
            "- Social change\n",
            "- Fields of study\n",
            "- Modern era\n",
            "- Rational understanding\n",
            "- Systematic understanding\n",
            "- Social world\n",
            "- Private secretary\n",
            "- Collaborator\n",
            "- Claude Henri de Saint-Simon\n",
            "- Positive Philosophy\n",
            "- Natural sciences\n",
            "- Laws explaining society\n",
            "User:\n",
            "Answer: I'm sorry, as an AI language model, I do not have access to the specific text related to topic no 236. Please provide me with more information or context so I can assist you better.\n"
          ]
        }
      ]
    }
  ],
  "metadata": {
    "colab": {
      "provenance": []
    },
    "kernelspec": {
      "display_name": "Python 3",
      "name": "python3"
    },
    "language_info": {
      "name": "python"
    }
  },
  "nbformat": 4,
  "nbformat_minor": 0
}
